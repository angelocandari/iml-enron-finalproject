{
 "cells": [
  {
   "cell_type": "markdown",
   "metadata": {},
   "source": [
    "# Enron POI Detector\n",
    "## Background\n",
    "Enron was a big scandal in Wallstreet that embodied greed, pride and fraud in Corporate America. Originally an energy company in Natural Gas, it became big when it started to trade energy in the stock exchange. They used this thing called \"Mark-to-Market\" pitch that basically allows them to sell their stock by reporting future earnings. Imagine if someone approached you and told you to invest in their company that will make 100 million USD even if their powerplant was not yet built. Naturally, everyone bought it and their prices went up. Long story short, the businesses went bankrupt after reporting huge losses and their investors lost their money. People responsible were called into question to answer for the fraud that they have commited."
   ]
  },
  {
   "cell_type": "markdown",
   "metadata": {},
   "source": [
    "## 1.1. Summary of Dataset\n",
    "The dataset contains 146 People with 21 Features. The features are split according to Email and Financials of these people. There are 18 People marked as Person of Interest, which includes CEO Jeffrey Skillings, Chairman Kenneth Lay and CFO Andrew Fastow. The objective of this analysis is create an algorithm that will be able to identify Person of Interests or POI by using their emails and financials."
   ]
  },
  {
   "cell_type": "code",
   "execution_count": 2,
   "metadata": {},
   "outputs": [
    {
     "name": "stdout",
     "output_type": "stream",
     "text": [
      "Count of People:  146\n",
      "Count of Features:  21\n",
      "Count of POI:  18\n"
     ]
    },
    {
     "data": {
      "image/png": "[encoded data removed]",
      "text/plain": [
       "<matplotlib.figure.Figure at 0xe30df98>"
      ]
     },
     "metadata": {},
     "output_type": "display_data"
    }
   ],
   "source": [
    "import sys\n",
    "import pickle\n",
    "import matplotlib.pyplot as plt\n",
    "import numpy as np\n",
    "import pprint\n",
    "import pandas as pd\n",
    "sys.path.append(\"../tools/\")\n",
    "\n",
    "from feature_format import featureFormat, targetFeatureSplit\n",
    "from tester import dump_classifier_and_data\n",
    "\n",
    "### Task 1: Select what features you'll use.\n",
    "### features_list is a list of strings, each of which is a feature name.\n",
    "\n",
    "features_list = [ \"poi\",\n",
    "    'salary', 'bonus', 'director_fees', 'other', 'long_term_incentive',\n",
    "    'deferral_payments', 'total_payments', 'loan_advances', 'deferred_income', \n",
    "    'expenses',\n",
    "    \n",
    "    'exercised_stock_options', 'restricted_stock', \n",
    "    'restricted_stock_deferred', 'total_stock_value',\n",
    "    \n",
    "    'to_messages', 'from_poi_to_this_person',\n",
    "    'from_messages', 'from_this_person_to_poi', 'shared_receipt_with_poi']\n",
    "\n",
    "### Load the dictionary containing the dataset\n",
    "with open(\"final_project_dataset.pkl\", \"r\") as data_file:\n",
    "    data_dict = pickle.load(data_file)\n",
    "\n",
    "### Store to my_dataset for easy export below.\n",
    "my_dataset = data_dict\n",
    "\n",
    "### Extract features and labels from dataset for local testing\n",
    "data = featureFormat(my_dataset, features_list, sort_keys = True)\n",
    "\n",
    "### Counts to describe the dataset\n",
    "print \"Count of People: \", len(my_dataset.keys())\n",
    "print \"Count of Features: \", len(my_dataset[\"METTS MARK\"].keys())\n",
    "print \"Count of POI: \", len(dict([(k,r) for k,r in my_dataset.iteritems() if r['poi'] == 1]))\n",
    "\n",
    "### Scatterplot function that marks the person of interest in red.\n",
    "def plotScatter(dat, labels=features_list):\n",
    "    for point in dat:\n",
    "        poi = point[0]\n",
    "        if poi == 0:\n",
    "            plt.scatter( point[1], point[2], color = \"blue\" )\n",
    "        else:\n",
    "            plt.scatter( point[1], point[2], color = \"red\" )\n",
    "    plt.xlabel(labels[1])\n",
    "    plt.ylabel(labels[2])\n",
    "    plt.show()\n",
    "    \n",
    "plotScatter(data)"
   ]
  },
  {
   "cell_type": "markdown",
   "metadata": {},
   "source": [
    "## 1.2. Outliers\n",
    "We plot the data according to their bonus and salary and noticed an outlier, which is the Total. I also noticed an entry called *THE TRAVEL AGENCY IN THE PARK*, which is not a person. The point of having a POI detector is to identify a person of interest, therefore, I am removing this entry as well."
   ]
  },
  {
   "cell_type": "code",
   "execution_count": 3,
   "metadata": {
    "scrolled": true
   },
   "outputs": [
    {
     "data": {
      "image/png": "[encoded data removed]",
      "text/plain": [
       "<matplotlib.figure.Figure at 0xe76b630>"
      ]
     },
     "metadata": {},
     "output_type": "display_data"
    }
   ],
   "source": [
    "### Task 2: Remove outliers\n",
    "data_dict.pop(\"TOTAL\", 0)\n",
    "data_dict.pop(\"THE TRAVEL AGENCY IN THE PARK\", 0)\n",
    "def removeNan(dat):\n",
    "    new = {}\n",
    "    for key, val in dat.items():\n",
    "        elem = {}\n",
    "        for k, v in val.items():\n",
    "            if v == \"NaN\":\n",
    "                elem[k] = 0            \n",
    "            else:\n",
    "                elem[k] = v\n",
    "        new[key] = elem\n",
    "    return new\n",
    "\n",
    "my_dataset = removeNan(data_dict)\n",
    "data = featureFormat(my_dataset, features_list, sort_keys = True)\n",
    "plotScatter(data, features_list)"
   ]
  },
  {
   "cell_type": "markdown",
   "metadata": {},
   "source": [
    "## 2.1. Create New Features from POI Emails\n",
    "I created a new feature to help me identify POIs better. The first one is the fraction of emails sent-to-POI from their overall sent emails. I also got the fraction of emails received-from-POI from their overall received emails.\n"
   ]
  },
  {
   "cell_type": "code",
   "execution_count": 4,
   "metadata": {},
   "outputs": [
    {
     "data": {
      "image/png": "[encoded data removed]",
      "text/plain": [
       "<matplotlib.figure.Figure at 0xf0b1ba8>"
      ]
     },
     "metadata": {},
     "output_type": "display_data"
    }
   ],
   "source": [
    "### Task 3: Create new feature(s)\n",
    "def computeFraction(numerator, denominator):\n",
    "    if (numerator != 0) | (denominator != 0):\n",
    "        return (float(numerator) / float(denominator))\n",
    "    else:\n",
    "        return 0.\n",
    "\n",
    "def computeSummation(numerator, denominator):\n",
    "    if (numerator != 0) & (denominator != 0):\n",
    "        return float(numerator) + float(denominator)\n",
    "    else:\n",
    "        return 0.\n",
    "\n",
    "def addNewFeature(dat, name, numer, denom=None, compute=False):\n",
    "    new = {}\n",
    "    if compute == \"fraction\":\n",
    "        for key, val in dat.items():\n",
    "            fraction = computeFraction(val[numer], val[denom])\n",
    "            val[name] = fraction\n",
    "            new[key] = val\n",
    "        features_list.append(name)\n",
    "    elif compute == \"sum\":\n",
    "        for key, val in dat.items():\n",
    "            summation = computeSummation(val[numer], val[denom])\n",
    "            val[name] = summation\n",
    "            new[key] = val\n",
    "        features_list.append(name)\n",
    "    else:\n",
    "        for key, val in dat.items():       \n",
    "            val[name] = numer[key]\n",
    "            new[key] = val\n",
    "        features_list.append(name)\n",
    "    return new\n",
    "\n",
    "my_dataset = addNewFeature(my_dataset, \n",
    "                           \"fraction_from_poi\", \n",
    "                           \"from_poi_to_this_person\", \"to_messages\", compute = \"fraction\")\n",
    "\n",
    "my_dataset = addNewFeature(my_dataset, \n",
    "                           \"fraction_to_poi\", \n",
    "                           \"from_this_person_to_poi\", \"from_messages\", compute = \"fraction\")\n",
    "\n",
    "data = featureFormat(my_dataset, [\"poi\", \"fraction_from_poi\", \"fraction_to_poi\"], \n",
    "                     sort_keys = True)\n",
    "\n",
    "plotScatter(data, [\"poi\", \"fraction_from_poi\", \"fraction_to_poi\"])"
   ]
  },
  {
   "cell_type": "markdown",
   "metadata": {},
   "source": [
    "## 2.2. Scaling Variables and using PCA\n",
    "I also took a look at the financial features to help me identify POIs. I first scaled them to eliminate discrepency brought by different magnitude of scales. Then, I used PCA to fit my clf and transform my data. I use this PCA to feed it to selectKBest and evaluate my accuracy.\n"
   ]
  },
  {
   "cell_type": "code",
   "execution_count": 5,
   "metadata": {},
   "outputs": [
    {
     "name": "stdout",
     "output_type": "stream",
     "text": [
      "[ 0.36234842  0.17059527]\n",
      "[ 0.46715513  0.35138959 -0.30753251  0.23870778  0.26731219  0.1093564\n",
      "  0.18362779  0.15343041 -0.24026979  0.24654034  0.30513706  0.25030471\n",
      " -0.03474875  0.30096321]\n",
      "[ 0.00686993  0.09488369  0.88369433  0.15936807  0.10020354  0.04287817\n",
      "  0.14549128  0.12579844 -0.13339103 -0.16983555  0.19390377  0.09399591\n",
      "  0.11857423  0.16921217]\n"
     ]
    },
    {
     "data": {
      "image/png": "[encoded data removed]",
      "text/plain": [
       "<matplotlib.figure.Figure at 0xead88d0>"
      ]
     },
     "metadata": {},
     "output_type": "display_data"
    }
   ],
   "source": [
    "from sklearn.preprocessing import MinMaxScaler\n",
    "\n",
    "data = featureFormat(my_dataset, features_list[:15], sort_keys = True)\n",
    "labels, features = targetFeatureSplit(data)\n",
    "\n",
    "scaler = MinMaxScaler()\n",
    "data_scaled = scaler.fit_transform(features)\n",
    "\n",
    "from sklearn.decomposition import PCA\n",
    "\n",
    "pca = PCA(n_components = 2)\n",
    "pca.fit(data_scaled)\n",
    "print pca.explained_variance_ratio_\n",
    "\n",
    "first_pc = pca.components_[0]\n",
    "second_pc = pca.components_[1]\n",
    "print first_pc\n",
    "print second_pc\n",
    "\n",
    "transformed_data = pca.transform(data_scaled)\n",
    "\n",
    "for ii, jj in zip(transformed_data, data_scaled):\n",
    "    plt.scatter(first_pc[0]*ii[0], first_pc[1]*ii[0], color = \"r\")\n",
    "    plt.scatter(second_pc[0]*ii[1], second_pc[1]*ii[1], color = \"c\")\n",
    "    plt.scatter(jj[0], jj[1], color=\"b\")\n",
    "\n",
    "plt.xlabel(\"PC1\")\n",
    "plt.ylabel(\"PC2\")\n",
    "plt.show()"
   ]
  },
  {
   "cell_type": "code",
   "execution_count": 6,
   "metadata": {},
   "outputs": [
    {
     "name": "stdout",
     "output_type": "stream",
     "text": [
      "0.744186046512\n"
     ]
    }
   ],
   "source": [
    "from sklearn.cross_validation import train_test_split\n",
    "features_train, features_test, labels_train, labels_test = \\\n",
    "    train_test_split(features, labels, test_size=0.3, random_state=42)\n",
    "\n",
    "feat_train_scl = scaler.fit_transform(features_train)\n",
    "pca.fit(feat_train_scl)\n",
    "feat_train_scl_pca = pca.transform(feat_train_scl)\n",
    "\n",
    "feat_test_scl = scaler.fit_transform(features_test)\n",
    "feat_test_scl_pca = pca.transform(feat_test_scl)\n",
    "\n",
    "from sklearn import tree\n",
    "from sklearn.metrics import accuracy_score\n",
    "\n",
    "clf = tree.DecisionTreeClassifier()\n",
    "clf = clf.fit(feat_train_scl_pca, labels_train)\n",
    "pred = clf.predict(feat_test_scl_pca)\n",
    "print accuracy_score(labels_test, pred)"
   ]
  },
  {
   "cell_type": "code",
   "execution_count": 46,
   "metadata": {},
   "outputs": [
    {
     "name": "stdout",
     "output_type": "stream",
     "text": [
      "                           score\n",
      "feature                         \n",
      "bonus                      30.73\n",
      "salary                     15.86\n",
      "total_stock_value          10.63\n",
      "exercised_stock_options     9.68\n",
      "total_payments              8.96\n",
      "deferred_income             8.79\n",
      "restricted_stock            8.06\n",
      "long_term_incentive         7.56\n",
      "loan_advances               7.04\n",
      "expenses                    4.18\n",
      "other                       3.20\n",
      "director_fees               1.64\n",
      "restricted_stock_deferred   0.73\n",
      "deferral_payments           0.01\n"
     ]
    }
   ],
   "source": [
    "from sklearn.feature_selection import SelectKBest, f_classif\n",
    "clf = SelectKBest(f_classif, k = 8)\n",
    "clf.fit_transform(features_train, labels_train)\n",
    "features_train_tr = clf.transform(features_test)\n",
    "\n",
    "def findScores(score, names):\n",
    "    new = {}\n",
    "    board = []\n",
    "    player = []\n",
    "    for i, value in enumerate(score):\n",
    "        player.append(names[i+1])\n",
    "        board.append(round(value, 2))\n",
    "    new[\"feature\"] = player\n",
    "    new[\"score\"] = board\n",
    "    return pd.DataFrame(new).sort_values(by=[\"score\"], \n",
    "                                     ascending=False).set_index('feature', drop=True)\n",
    "\n",
    "feature_sc = findScores(clf.scores_, features_list)\n",
    "print feature_sc"
   ]
  },
  {
   "cell_type": "code",
   "execution_count": null,
   "metadata": {},
   "outputs": [],
   "source": [
    "### Task 4: Try a variety of classifiers\n",
    "### Please name your classifier clf for easy export below.\n",
    "### Note that if you want to do PCA or other multi-stage operations,\n",
    "### you'll need to use Pipelines. For more info:\n",
    "### http://scikit-learn.org/stable/modules/pipeline.html\n",
    "\n",
    "# Provided to give you a starting point. Try a variety of classifiers.\n",
    "# from sklearn.naive_bayes import GaussianNB\n",
    "# clf = GaussianNB()\n",
    "\n",
    "labels, features = targetFeatureSplit(data)"
   ]
  },
  {
   "cell_type": "code",
   "execution_count": null,
   "metadata": {
    "scrolled": false
   },
   "outputs": [],
   "source": [
    "### Task 5: Tune your classifier to achieve better than .3 precision and recall \n",
    "### using our testing script. Check the tester.py script in the final project\n",
    "### folder for details on the evaluation method, especially the test_classifier\n",
    "### function. Because of the small size of the dataset, the script uses\n",
    "### stratified shuffle split cross validation. For more info: \n",
    "### http://scikit-learn.org/stable/modules/generated/sklearn.cross_validation.StratifiedShuffleSplit.html\n",
    "\n",
    "# Example starting point. Try investigating other evaluation techniques!\n",
    "from sklearn.cross_validation import train_test_split\n",
    "features_train, features_test, labels_train, labels_test = \\\n",
    "    train_test_split(features, labels, test_size=0.3, random_state=42)\n",
    "    \n",
    "from sklearn import tree\n",
    "from sklearn.metrics import accuracy_score\n",
    "clf = tree.DecisionTreeClassifier()\n",
    "clf = clf.fit(features_train, labels_train)\n",
    "pred = clf.predict(features_test)\n",
    "important = clf.feature_importances_\n",
    "\n",
    "print accuracy_score(labels_test, pred)\n",
    "\n",
    "### Task 6: Dump your classifier, dataset, and features_list so anyone can\n",
    "### check your results. You do not need to change anything below, but make sure\n",
    "### that the version of poi_id.py that you submit can be run on its own and\n",
    "### generates the necessary .pkl files for validating your results.\n",
    "\n",
    "dump_classifier_and_data(clf, my_dataset, features_list)\n",
    "\n",
    "### Code Here"
   ]
  }
 ],
 "metadata": {
  "anaconda-cloud": {},
  "kernelspec": {
   "display_name": "Python 2",
   "language": "python",
   "name": "python2"
  },
  "language_info": {
   "codemirror_mode": {
    "name": "ipython",
    "version": 2
   },
   "file_extension": ".py",
   "mimetype": "text/x-python",
   "name": "python",
   "nbconvert_exporter": "python",
   "pygments_lexer": "ipython2",
   "version": "2.7.14"
  }
 },
 "nbformat": 4,
 "nbformat_minor": 2
}
