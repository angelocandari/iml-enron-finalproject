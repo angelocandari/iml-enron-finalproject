{
 "cells": [
  {
   "cell_type": "markdown",
   "metadata": {},
   "source": [
    "# Enron POI Detector\n",
    "## Background\n",
    "Enron was a big scandal in Wallstreet that embodied greed, pride and fraud in Corporate America. Originally an energy company in Natural Gas, it became big when it started to trade energy in the stock exchange. They used this thing called \"Mark-to-Market\" pitch that basically allows them to sell their stock by reporting future earnings. Imagine if someone approached you and told you to invest in their company that will make 100 million USD even if their powerplant was not yet built. Naturally, everyone bought it and their prices went up. Long story short, the businesses went bankrupt after reporting huge losses and their investors lost their money. People responsible were called into question to answer for the fraud that they have commited. The objective of this analysis is create an algorithm that will be able to identify Person of Interests or POI by using their emails and financials."
   ]
  },
  {
   "cell_type": "markdown",
   "metadata": {},
   "source": [
    "## Dataset\n",
    "The dataset contains 146 People with 21 Features. The features are split according to Email and Financials of these people. There are 18 People marked as Person of Interest, which includes CEO Jeffrey Skillings, Chairman Kenneth Lay and CFO Andrew Fastow."
   ]
  },
  {
   "cell_type": "code",
   "execution_count": 44,
   "metadata": {},
   "outputs": [
    {
     "name": "stdout",
     "output_type": "stream",
     "text": [
      "Count of People:  146\n",
      "Count of Features:  21\n",
      "Count of POI:  18\n"
     ]
    },
    {
     "data": {
      "image/png": "[encoded data removed]",
      "text/plain": [
       "<matplotlib.figure.Figure at 0xc610438>"
      ]
     },
     "metadata": {},
     "output_type": "display_data"
    }
   ],
   "source": [
    "import sys\n",
    "import pickle\n",
    "import matplotlib.pyplot\n",
    "import pprint\n",
    "sys.path.append(\"../tools/\")\n",
    "\n",
    "from feature_format import featureFormat, targetFeatureSplit\n",
    "from tester import dump_classifier_and_data\n",
    "\n",
    "### Task 1: Select what features you'll use.\n",
    "### features_list is a list of strings, each of which is a feature name.\n",
    "\n",
    "def featureList(f1, f2):\n",
    "    return [\"poi\", f1, f2]\n",
    "\n",
    "features_list = featureList(\"salary\", \"exercised_stock_options\")\n",
    "\n",
    "finance_options = [\n",
    "    'salary', 'bonus', 'director_fees', 'other', 'long_term_incentive',\n",
    "    'deferral_payments', 'total_payments', 'loan_advances', 'deferred_income', \n",
    "    'expenses', 'exercised_stock_options', 'restricted_stock', \n",
    "    'restricted_stock_deferred', 'total_stock_value']\n",
    "\n",
    "email_options = [\n",
    "    'to_messages', 'email_address', 'from_poi_to_this_person',\n",
    "    'from_messages', 'from_this_person_to_poi', 'shared_receipt_with_poi']\n",
    "\n",
    "### Load the dictionary containing the dataset\n",
    "with open(\"final_project_dataset.pkl\", \"r\") as data_file:\n",
    "    data_dict = pickle.load(data_file)\n",
    "\n",
    "### Store to my_dataset for easy export below.\n",
    "my_dataset = data_dict\n",
    "\n",
    "### Extract features and labels from dataset for local testing\n",
    "data = featureFormat(my_dataset, features_list, sort_keys = True)\n",
    "\n",
    "### Counts to describe the dataset\n",
    "print \"Count of People: \", len(my_dataset.keys())\n",
    "print \"Count of Features: \", len(my_dataset[\"METTS MARK\"].keys())\n",
    "print \"Count of POI: \", len(dict([(k,r) for k,r in my_dataset.iteritems() if r['poi'] == 1]))\n",
    "\n",
    "### Scatterplot function that marks the person of interest in red.\n",
    "def plotScatter(dat, labels=features_list):\n",
    "    for point in dat:\n",
    "        poi = point[0]\n",
    "        if poi == 0:\n",
    "            matplotlib.pyplot.scatter( point[1], point[2], color = \"blue\" )\n",
    "        else:\n",
    "            matplotlib.pyplot.scatter( point[1], point[2], color = \"red\" )\n",
    "    matplotlib.pyplot.xlabel(labels[1])\n",
    "    matplotlib.pyplot.ylabel(labels[2])\n",
    "    matplotlib.pyplot.show()\n",
    "    \n",
    "plotScatter(data)"
   ]
  },
  {
   "cell_type": "markdown",
   "metadata": {},
   "source": [
    "## Outliers\n",
    "We plot the data according to their bonus and salary and notice an outlier, which is the Total. We simply remove this outlier and see a more normal scatterplot with POI marked in Red."
   ]
  },
  {
   "cell_type": "code",
   "execution_count": 45,
   "metadata": {
    "scrolled": true
   },
   "outputs": [
    {
     "data": {
      "image/png": "[encoded data removed]",
      "text/plain": [
       "<matplotlib.figure.Figure at 0xd7ac7f0>"
      ]
     },
     "metadata": {},
     "output_type": "display_data"
    }
   ],
   "source": [
    "### Task 2: Remove outliers\n",
    "data_dict.pop(\"TOTAL\", 0)\n",
    "features_list = featureList(\"salary\", \"exercised_stock_options\")\n",
    "data = featureFormat(my_dataset, features_list, sort_keys = True)\n",
    "plotScatter(data, features_list)"
   ]
  },
  {
   "cell_type": "code",
   "execution_count": 46,
   "metadata": {},
   "outputs": [
    {
     "data": {
      "image/png": "[encoded data removed]",
      "text/plain": [
       "<matplotlib.figure.Figure at 0xc610a58>"
      ]
     },
     "metadata": {},
     "output_type": "display_data"
    }
   ],
   "source": [
    "### Task 3: Create new feature(s)\n",
    "\n",
    "def computeFraction(numerator, denominator):\n",
    "    if (numerator != \"NaN\") | (denominator != \"NaN\"):\n",
    "        return (float(numerator) / float(denominator))\n",
    "    else:\n",
    "        return 0.\n",
    "    \n",
    "def computeSummation(numerator, denominator):\n",
    "    if (numerator != \"NaN\") | (denominator != \"NaN\"):\n",
    "        return float(numerator) + float(denominator)\n",
    "    else:\n",
    "        return 0.\n",
    "            \n",
    "def addNewFeature(dat, name, numer, denom=None, compute=False):\n",
    "    new = {}\n",
    "    if compute == \"fraction\":\n",
    "        for key, val in dat.items():\n",
    "            fraction = computeFraction(val[numer], val[denom])\n",
    "            val[name] = fraction\n",
    "            new[key] = val\n",
    "    elif compute == \"sum\":\n",
    "        for key, val in dat.items():\n",
    "            summation = computeSummation(val[numer], val[denom])\n",
    "            val[name] = summation\n",
    "            new[key] = val\n",
    "    else:\n",
    "        for key, val in dat.items():       \n",
    "            val[name] = numer[key]\n",
    "            new[key] = val\n",
    "    return new\n",
    "\n",
    "my_dataset = addNewFeature(my_dataset, \n",
    "                           \"fraction_from_poi\", \n",
    "                           \"from_poi_to_this_person\", \"to_messages\", compute = \"fraction\")\n",
    "my_dataset = addNewFeature(my_dataset, \n",
    "                           \"fraction_to_poi\", \n",
    "                           \"from_this_person_to_poi\", \"from_messages\", compute = \"fraction\")\n",
    "\n",
    "features_list = featureList(\"fraction_from_poi\", \"fraction_to_poi\")\n",
    "data = featureFormat(my_dataset, features_list, sort_keys = True)\n",
    "plotScatter(data, features_list)"
   ]
  },
  {
   "cell_type": "code",
   "execution_count": 50,
   "metadata": {},
   "outputs": [
    {
     "name": "stderr",
     "output_type": "stream",
     "text": [
      "C:\\Users\\Chris\\Anaconda3\\envs\\py27\\lib\\site-packages\\ipykernel_launcher.py:10: FutureWarning: elementwise comparison failed; returning scalar instead, but in the future will perform elementwise comparison\n",
      "  # Remove the CWD from sys.path while we load stuff.\n"
     ]
    },
    {
     "ename": "KeyError",
     "evalue": "'fromEmails_rs'",
     "output_type": "error",
     "traceback": [
      "\u001b[1;31m---------------------------------------------------------------------------\u001b[0m",
      "\u001b[1;31mKeyError\u001b[0m                                  Traceback (most recent call last)",
      "\u001b[1;32m<ipython-input-50-8ac05becbe1c>\u001b[0m in \u001b[0;36m<module>\u001b[1;34m()\u001b[0m\n\u001b[0;32m     40\u001b[0m my_dataset = addNewFeature(my_dataset, \n\u001b[0;32m     41\u001b[0m                            \u001b[1;34m\"emails_from_to\"\u001b[0m\u001b[1;33m,\u001b[0m\u001b[1;33m\u001b[0m\u001b[0m\n\u001b[1;32m---> 42\u001b[1;33m                            \"fromEmails_rs\", \"toEmails_rs\", compute = \"sum\")\n\u001b[0m\u001b[0;32m     43\u001b[0m \u001b[1;33m\u001b[0m\u001b[0m\n\u001b[0;32m     44\u001b[0m \u001b[1;33m\u001b[0m\u001b[0m\n",
      "\u001b[1;32m<ipython-input-46-236187ab84ec>\u001b[0m in \u001b[0;36maddNewFeature\u001b[1;34m(dat, name, numer, denom, compute)\u001b[0m\n\u001b[0;32m     22\u001b[0m     \u001b[1;32melif\u001b[0m \u001b[0mcompute\u001b[0m \u001b[1;33m==\u001b[0m \u001b[1;34m\"sum\"\u001b[0m\u001b[1;33m:\u001b[0m\u001b[1;33m\u001b[0m\u001b[0m\n\u001b[0;32m     23\u001b[0m         \u001b[1;32mfor\u001b[0m \u001b[0mkey\u001b[0m\u001b[1;33m,\u001b[0m \u001b[0mval\u001b[0m \u001b[1;32min\u001b[0m \u001b[0mdat\u001b[0m\u001b[1;33m.\u001b[0m\u001b[0mitems\u001b[0m\u001b[1;33m(\u001b[0m\u001b[1;33m)\u001b[0m\u001b[1;33m:\u001b[0m\u001b[1;33m\u001b[0m\u001b[0m\n\u001b[1;32m---> 24\u001b[1;33m             \u001b[0msummation\u001b[0m \u001b[1;33m=\u001b[0m \u001b[0mcomputeSummation\u001b[0m\u001b[1;33m(\u001b[0m\u001b[0mval\u001b[0m\u001b[1;33m[\u001b[0m\u001b[0mnumer\u001b[0m\u001b[1;33m]\u001b[0m\u001b[1;33m,\u001b[0m \u001b[0mval\u001b[0m\u001b[1;33m[\u001b[0m\u001b[0mdenom\u001b[0m\u001b[1;33m]\u001b[0m\u001b[1;33m)\u001b[0m\u001b[1;33m\u001b[0m\u001b[0m\n\u001b[0m\u001b[0;32m     25\u001b[0m             \u001b[0mval\u001b[0m\u001b[1;33m[\u001b[0m\u001b[0mname\u001b[0m\u001b[1;33m]\u001b[0m \u001b[1;33m=\u001b[0m \u001b[0msummation\u001b[0m\u001b[1;33m\u001b[0m\u001b[0m\n\u001b[0;32m     26\u001b[0m             \u001b[0mnew\u001b[0m\u001b[1;33m[\u001b[0m\u001b[0mkey\u001b[0m\u001b[1;33m]\u001b[0m \u001b[1;33m=\u001b[0m \u001b[0mval\u001b[0m\u001b[1;33m\u001b[0m\u001b[0m\n",
      "\u001b[1;31mKeyError\u001b[0m: 'fromEmails_rs'"
     ]
    }
   ],
   "source": [
    "from sklearn.preprocessing import MinMaxScaler\n",
    "import numpy as np\n",
    "\n",
    "def scaleVariable(dat, feature):\n",
    "    new = {}\n",
    "    bucket = []\n",
    "    for key, val in dat.items():\n",
    "        elem = []\n",
    "        if val[feature] != \"NaN\":\n",
    "            elem.append(float(val[feature]))\n",
    "        else:\n",
    "            elem.append(0.)\n",
    "        bucket.append(elem)\n",
    "        \n",
    "    bucket_np = np.array(bucket)\n",
    "    scaler = MinMaxScaler()\n",
    "    rescaled_variable = scaler.fit_transform(bucket_np)\n",
    "    \n",
    "    i = 0\n",
    "    for key, val in dat.items():\n",
    "        new[key] = rescaled_variable[i]\n",
    "        i += 1\n",
    "    return new\n",
    "\n",
    "salary_rs = scaleVariable(my_dataset, \"salary\")\n",
    "bonus_rs = scaleVariable(my_dataset, \"bonus\")\n",
    "exercised_stock_rs = scaleVariable(my_dataset, \"exercised_stock_options\")\n",
    "\n",
    "fromEmails_rs = scaleVariable(my_dataset, \"fraction_from_poi\")\n",
    "toEmails_rs = scaleVariable(my_dataset, \"fraction_to_poi\")\n",
    "\n",
    "my_dataset = addNewFeature(my_dataset, \"salary_rs\", salary_rs)\n",
    "my_dataset = addNewFeature(my_dataset, \"bonus_rs\", bonus_rs)\n",
    "my_dataset = addNewFeature(my_dataset, \"exercised_stock_rs\", exercised_stock_rs)\n",
    "\n",
    "my_dataset = addNewFeature(my_dataset, \n",
    "                           \"salary_stock\", \n",
    "                           \"salary_rs\", \"exercised_stock_rs\", compute = \"sum\")\n",
    "\n",
    "my_dataset = addNewFeature(my_dataset, \n",
    "                           \"emails_from_to\", \n",
    "                           \"fromEmails_rs\", \"toEmails_rs\", compute = \"sum\")\n",
    "\n",
    "\n",
    "features_list = featureList(\"salary_stock\", \"emails_from_to\")\n",
    "data = featureFormat(my_dataset, features_list, sort_keys = True)\n",
    "plotScatter(data, features_list)"
   ]
  },
  {
   "cell_type": "code",
   "execution_count": 31,
   "metadata": {
    "scrolled": false
   },
   "outputs": [
    {
     "name": "stdout",
     "output_type": "stream",
     "text": [
      "0.818181818182\n",
      "[10  6  1  2  4]\n"
     ]
    },
    {
     "data": {
      "image/png": "[encoded data removed]",
      "text/plain": [
       "<matplotlib.figure.Figure at 0xd7c4a20>"
      ]
     },
     "metadata": {},
     "output_type": "display_data"
    }
   ],
   "source": [
    "labels, features = targetFeatureSplit(data)\n",
    "\n",
    "### Task 4: Try a varity of classifiers\n",
    "### Please name your classifier clf for easy export below.\n",
    "### Note that if you want to do PCA or other multi-stage operations,\n",
    "### you'll need to use Pipelines. For more info:\n",
    "### http://scikit-learn.org/stable/modules/pipeline.html\n",
    "\n",
    "# Provided to give you a starting point. Try a variety of classifiers.\n",
    "# from sklearn.naive_bayes import GaussianNB\n",
    "# clf = GaussianNB()\n",
    "\n",
    "### Task 5: Tune your classifier to achieve better than .3 precision and recall \n",
    "### using our testing script. Check the tester.py script in the final project\n",
    "### folder for details on the evaluation method, especially the test_classifier\n",
    "### function. Because of the small size of the dataset, the script uses\n",
    "### stratified shuffle split cross validation. For more info: \n",
    "### http://scikit-learn.org/stable/modules/generated/sklearn.cross_validation.StratifiedShuffleSplit.html\n",
    "\n",
    "# Example starting point. Try investigating other evaluation techniques!\n",
    "from sklearn.cross_validation import train_test_split\n",
    "features_train, features_test, labels_train, labels_test = \\\n",
    "    train_test_split(features, labels, test_size=0.3, random_state=42)\n",
    "    \n",
    "from sklearn import tree\n",
    "from sklearn.metrics import accuracy_score\n",
    "clf = tree.DecisionTreeClassifier()\n",
    "clf = clf.fit(features_train, labels_train)\n",
    "pred = clf.predict(features_test)\n",
    "important = clf.feature_importances_\n",
    "\n",
    "print accuracy_score(labels_test, pred)\n",
    "\n",
    "### Task 6: Dump your classifier, dataset, and features_list so anyone can\n",
    "### check your results. You do not need to change anything below, but make sure\n",
    "### that the version of poi_id.py that you submit can be run on its own and\n",
    "### generates the necessary .pkl files for validating your results.\n",
    "\n",
    "dump_classifier_and_data(clf, my_dataset, features_list)\n",
    "\n",
    "### Code Here\n",
    "\n"
   ]
  }
 ],
 "metadata": {
  "anaconda-cloud": {},
  "kernelspec": {
   "display_name": "Python 2",
   "language": "python",
   "name": "python2"
  },
  "language_info": {
   "codemirror_mode": {
    "name": "ipython",
    "version": 2
   },
   "file_extension": ".py",
   "mimetype": "text/x-python",
   "name": "python",
   "nbconvert_exporter": "python",
   "pygments_lexer": "ipython2",
   "version": "2.7.14"
  }
 },
 "nbformat": 4,
 "nbformat_minor": 2
}
